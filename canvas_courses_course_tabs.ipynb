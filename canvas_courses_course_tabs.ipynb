{
 "cells": [
  {
   "cell_type": "code",
   "execution_count": 2,
   "metadata": {},
   "outputs": [],
   "source": [
    "#import modules\n",
    "import pandas as pd\n",
    "import numpy as np\n",
    "import requests\n",
    "\n",
    "from pandas.io import gbq\n",
    "#from google.cloud import bigquery,storage\n",
    "from google.oauth2 import service_account\n",
    "\n",
    "import gspread\n",
    "import json, os\n",
    "from canvasapi import Canvas\n",
    "\n",
    "from datetime import datetime\n",
    "\n",
    "from time import time\n",
    "\n",
    "from params import basedir, run_mode\n",
    "#import plotly.express as px"
   ]
  },
  {
   "cell_type": "code",
   "execution_count": 3,
   "metadata": {},
   "outputs": [
    {
     "name": "stdout",
     "output_type": "stream",
     "text": [
      "dev\n"
     ]
    }
   ],
   "source": [
    "#choose credential file paths and other possible changes:\n",
    "#run_mode = 'dev' #or, 'prod', or 'mig' for when migrating the code\n",
    "print(run_mode)"
   ]
  },
  {
   "cell_type": "code",
   "execution_count": 4,
   "metadata": {},
   "outputs": [],
   "source": [
    "\n",
    "if run_mode == 'dev':\n",
    "    out_table = \"all_courses3\"\n",
    "    tab_out_table = \"all_course_tabs3\"\n",
    "    \n",
    "elif run_mode == 'prod':\n",
    "    out_table = \"all_courses4\"\n",
    "    tab_out_table = \"all_course_tabs4\"    \n",
    "\n",
    "elif run_mode == 'prod_home':\n",
    "    out_table = \"all_courses4\"\n",
    "    tab_out_table = \"all_course_tabs4\"    \n",
    "\n",
    "    \n",
    "elif run_mode == 'mig':\n",
    "    out_table = \"all_courses3\"\n",
    "    tab_out_table = \"all_course_tabs3\"    \n",
    "\n"
   ]
  },
  {
   "cell_type": "code",
   "execution_count": 5,
   "metadata": {},
   "outputs": [],
   "source": [
    "\n",
    "#get Google cloud credentials\n",
    "project_id = 'canvas-portal-data-custom'\n",
    "cred_file = '{}/canvas-portal-data-custom-6e244db3b826.json'.format(basedir)\n",
    "data_dl = 'data'\n",
    "scopes = [ \"https://www.googleapis.com/auth/drive\", \"https://www.googleapis.com/auth/drive.file\",\n",
    "            \"https://spreadsheets.google.com/auth/spreadsheets\"]\n",
    "credentials = service_account.Credentials.from_service_account_file(cred_file,)\n",
    "\n",
    "#get Canvas credentials\n",
    "#cred_file2 = '{}/instances.json'.format(basedir)\n",
    "#with open(cred_file2,'r') as cred2:\n",
    "#    cred_json = json.load(cred2)\n",
    "\n",
    "from instances import canvas_api, panopto_api\n",
    "\n",
    "canvas_API_KEY = canvas_api['ACCES_TOKEN']\n",
    "canvas_API_URL = canvas_api['API_URL']#+'/accounts/1'\n",
    "\n",
    "panopto_client_id = panopto_api['Client Id']\n",
    "panopto_client_secret = panopto_api['Client Secret']"
   ]
  },
  {
   "cell_type": "code",
   "execution_count": 6,
   "metadata": {},
   "outputs": [
    {
     "data": {
      "text/plain": [
       "{'_Canvas__requester': <canvasapi.requester.Requester at 0x7fd9e949fa60>}"
      ]
     },
     "execution_count": 6,
     "metadata": {},
     "output_type": "execute_result"
    }
   ],
   "source": [
    "# Initialize a new Canvas object\n",
    "canvas = Canvas(canvas_API_URL, canvas_API_KEY)\n",
    "canvas.__dict__\n",
    "\n",
    "#Initialize a new Panopto object"
   ]
  },
  {
   "cell_type": "code",
   "execution_count": 27,
   "metadata": {},
   "outputs": [],
   "source": [
    "#Get a list of all department names by the sub-account id:\n",
    "acc = canvas.get_account(1)\n",
    "sub_account_dict = {}\n",
    "sub_account_dict[1] = 'MIT Root Account'\n",
    "parent_account_dict = {}\n",
    "accs = acc.get_subaccounts(recursive=True)\n",
    "for a_ in accs:\n",
    "    sub_account_dict[a_.id] = a_.name\n",
    "\n",
    "for a_ in accs:\n",
    "    try:\n",
    "        parent_account_dict[a_.id] = sub_account_dict[a_.parent_account_id]\n",
    "    except Exception as e:\n",
    "        pass\n",
    "\n",
    "    \n",
    "#Get course terms associated with the account and create a dictionary of the term names:\n",
    "term_dict ={}\n",
    "for term_ in acc.get_enrollment_terms():\n",
    "    term_dict[term_.id] = term_.name\n",
    "    \n",
    "#parent_account_dict\n",
    "#sub_account_dict"
   ]
  },
  {
   "cell_type": "code",
   "execution_count": 13,
   "metadata": {},
   "outputs": [
    {
     "name": "stdout",
     "output_type": "stream",
     "text": [
      "Getting a list of all courses...\n",
      "Getting a list of all courses... Done.\n"
     ]
    }
   ],
   "source": [
    "#Get a list of all courses:\n",
    "print(\"Getting a list of all courses...\")\n",
    "large_num = 100000 #give a very large number so all courses are pulled recursively\n",
    "#excl_acc = [1,17,76] #mention sub-accounts to be excluded\n",
    "excl_acc = [] #Don't implement it here...\n",
    "begin_date = '2015-05-01' #Date since when we are counting\n",
    "\n",
    "course_rows = []\n",
    "course_cols = ['course_id', 'course_code', 'course_name', 'account_id', 'created_at']\n",
    "for acc_course in acc.get_courses()[:large_num]:\n",
    "    course_rows.append([acc_course.id, acc_course.course_code, acc_course.name, acc_course.account_id, \n",
    "                        acc_course.created_at])\n",
    "    \n",
    "courses_df = pd.DataFrame.from_records(course_rows, columns=course_cols)\n",
    "\n",
    "courses_df_dep_excluded = courses_df[~courses_df.account_id.isin(excl_acc)]\n",
    "'''\n",
    "try:\n",
    "    courses_df_dep_excluded['Dept'] = courses_df_dep_excluded.apply(lambda \n",
    "                                                        row: sub_account_dict[row['account_id']], axis=1)\n",
    "except:\n",
    "    pass\n",
    "courses_df_dep_excluded\n",
    "'''\n",
    "filtered_courses_df = courses_df_dep_excluded[courses_df_dep_excluded.created_at>=begin_date]\n",
    "\n",
    "filtered_courses_df.to_csv('all_canvas_courses.csv', index=None)\n",
    "print(\"Getting a list of all courses... Done.\")"
   ]
  },
  {
   "cell_type": "code",
   "execution_count": 36,
   "metadata": {},
   "outputs": [],
   "source": [
    "def get_course_tab_info(course_id):\n",
    "    '''This function gets the course information and the file/assignment update times,\n",
    "    by the course_id, and returns a list of '''\n",
    "    cutoff_date = datetime.strptime('2015-05-31', '%Y-%m-%d') #by this time most default content was created\n",
    "    tab_dict_course = []\n",
    "    try:\n",
    "        c1 = canvas.get_course(course_id)\n",
    "    except:\n",
    "        c1 = None    \n",
    "    try:    \n",
    "        #Get all tabs for this course\n",
    "        all_tabs = c1.get_tabs()\n",
    "\n",
    "        #Append the list of tabs to all_tabs_list\n",
    "        for tab_ in all_tabs:\n",
    "            tab_dict = tab_.__dict__\n",
    "            tab_dict['course_name'] = c1.name\n",
    "\n",
    "            tab_dict_course.append(tab_dict)\n",
    "\n",
    "        return tab_dict_course\n",
    "    except:\n",
    "        pass"
   ]
  },
  {
   "cell_type": "code",
   "execution_count": 37,
   "metadata": {
    "scrolled": false
   },
   "outputs": [],
   "source": [
    "#get the course tab info for a set number of courses at a time\n",
    "filtered_courses_df = pd.read_csv('all_canvas_courses.csv')\n",
    "all_course_list_0 = filtered_courses_df.course_id.tolist()\n",
    "\n",
    "\n",
    "if run_mode == 'dev' or run_mode=='mig':\n",
    "    course_pos_list = all_course_list_0[:5]\n",
    "    num_courses_dump = 3\n",
    "elif run_mode == 'prod' or run_mode=='prod_home':\n",
    "    course_pos_list = all_course_list_0\n",
    "    num_courses_dump = 100\n",
    "    \n",
    "course_max_num = len(course_pos_list)\n",
    "tab_dict_list = []\n",
    "\n",
    "dump_num = 0\n",
    "i = 0\n",
    "while i < course_max_num:\n",
    "    cid = course_pos_list[i]\n",
    "    tab_dict_course = get_course_tab_info(cid)\n",
    "    for item in tab_dict_course:\n",
    "        tab_dict_list.append(item)\n",
    "\n",
    "\n",
    "    if  i%num_courses_dump == 0:\n",
    "        course_tab_df = pd.DataFrame(tab_dict_list)\n",
    "        course_tab_df.drop(['_requester'], axis=1, inplace=True)\n",
    "        if dump_num==0: \n",
    "            course_tab_df.to_csv('course_tab_df.csv', index=None)\n",
    "\n",
    "        else: \n",
    "            course_tab_df.to_csv('course_tab_df.csv', index=None, header=None, mode='a')\n",
    "\n",
    "        dump_num += 1 #increment the dump number\n",
    "        tab_dict_list = [] #start a new tab_dict_list\n",
    "        \n",
    "    i += 1 #move course position in the course list        \n",
    "\n",
    "#finally, once out of the loop, check if the tab_dict_list is empty, and dump it if not.\n",
    "if len(tab_dict_list) != 0:\n",
    "        course_tab_df = pd.DataFrame(tab_dict_list)\n",
    "        course_tab_df.drop(['_requester'], axis=1, inplace=True)\n",
    "        if dump_num==0: \n",
    "            course_tab_df.to_csv('course_tab_df.csv', index=None)\n",
    "        else: \n",
    "            course_tab_df.to_csv('course_tab_df.csv', index=None, header=None, mode='a')\n",
    "\n",
    "        \n",
    "        \n",
    "    \n"
   ]
  },
  {
   "cell_type": "code",
   "execution_count": 38,
   "metadata": {},
   "outputs": [
    {
     "name": "stderr",
     "output_type": "stream",
     "text": [
      "1it [00:04,  4.38s/it]\n"
     ]
    }
   ],
   "source": [
    "#Create course tab dataframe from the list:\n",
    "course_tab_df = pd.read_csv('course_tab_df.csv')\n",
    "\n",
    "#Send out course tabs dataframe to GBQ\n",
    "course_tab_df.to_gbq('lt_courses.{}'.format(tab_out_table), project_id, if_exists='replace', credentials=credentials)"
   ]
  }
 ],
 "metadata": {
  "kernelspec": {
   "display_name": "Python 3",
   "language": "python",
   "name": "python3"
  },
  "language_info": {
   "codemirror_mode": {
    "name": "ipython",
    "version": 3
   },
   "file_extension": ".py",
   "mimetype": "text/x-python",
   "name": "python",
   "nbconvert_exporter": "python",
   "pygments_lexer": "ipython3",
   "version": "3.9.2"
  }
 },
 "nbformat": 4,
 "nbformat_minor": 2
}
