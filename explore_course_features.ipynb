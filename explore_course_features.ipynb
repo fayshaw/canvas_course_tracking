{
 "cells": [
  {
   "cell_type": "markdown",
   "metadata": {},
   "source": [
    "## Explore course features"
   ]
  },
  {
   "cell_type": "code",
   "execution_count": 1,
   "metadata": {},
   "outputs": [],
   "source": [
    "#import modules\n",
    "import pandas as pd\n",
    "import numpy as np\n",
    "\n",
    "import requests\n",
    "\n",
    "from pandas.io import gbq\n",
    "from google.oauth2 import service_account\n",
    "\n",
    "import gspread\n",
    "import json, os\n",
    "from canvasapi import Canvas\n",
    "\n",
    "from datetime import datetime\n",
    "\n",
    "from time import time\n",
    "\n",
    "from params import basedir, run_mode"
   ]
  },
  {
   "cell_type": "code",
   "execution_count": 2,
   "metadata": {},
   "outputs": [],
   "source": [
    "pd.set_option(\"display.max_columns\", 200)"
   ]
  },
  {
   "cell_type": "code",
   "execution_count": 3,
   "metadata": {},
   "outputs": [
    {
     "name": "stdout",
     "output_type": "stream",
     "text": [
      "dev\n"
     ]
    }
   ],
   "source": [
    "print(run_mode)"
   ]
  },
  {
   "cell_type": "code",
   "execution_count": 4,
   "metadata": {},
   "outputs": [],
   "source": [
    "if run_mode == 'dev':\n",
    "    out_table = \"all_courses4\"\n",
    "    setting_out_table = \"all_course_settings4\"\n",
    "    feature_flags_out_table = \"feature_flags_table4\"\n",
    "elif run_mode == 'prod':\n",
    "    out_table = \"all_courses4\"\n",
    "    setting_out_table = \"all_course_settings4\"    \n",
    "    feature_flags_out_table = \"feature_flags_table4\"\n",
    "\n",
    "elif run_mode == 'prod_home':\n",
    "    out_table = \"all_courses4\"\n",
    "    setting_out_table = \"all_course_settings4\"    \n",
    "    feature_flags_out_table = \"feature_flags_table4\"    \n",
    "\n",
    "    \n",
    "elif run_mode == 'mig':\n",
    "    out_table = \"all_courses4\"\n",
    "    setting_out_table = \"all_course_settings4\"    \n",
    "    feature_flags_out_table = \"feature_flags_table4\"\n"
   ]
  },
  {
   "cell_type": "code",
   "execution_count": 5,
   "metadata": {},
   "outputs": [],
   "source": [
    "#get Google cloud credentials\n",
    "project_id = 'canvas-portal-data-custom'\n",
    "cred_file = '{}/canvas-portal-data-custom-6e244db3b826.json'.format(basedir)\n",
    "data_dl = 'data'\n",
    "scopes = [ \"https://www.googleapis.com/auth/drive\", \"https://www.googleapis.com/auth/drive.file\",\n",
    "            \"https://spreadsheets.google.com/auth/spreadsheets\"]\n",
    "credentials = service_account.Credentials.from_service_account_file(cred_file,)\n",
    "\n",
    "\n",
    "from instances import canvas_api, panopto_api\n",
    "\n",
    "canvas_API_KEY = canvas_api['ACCES_TOKEN']\n",
    "canvas_API_URL = canvas_api['API_URL']#+'/accounts/1'\n"
   ]
  },
  {
   "cell_type": "code",
   "execution_count": 6,
   "metadata": {},
   "outputs": [
    {
     "data": {
      "text/plain": [
       "{'_Canvas__requester': <canvasapi.requester.Requester at 0x7f9ea0cb5070>}"
      ]
     },
     "execution_count": 6,
     "metadata": {},
     "output_type": "execute_result"
    }
   ],
   "source": [
    "# Initialize a new Canvas object\n",
    "canvas = Canvas(canvas_API_URL, canvas_API_KEY)\n",
    "canvas.__dict__\n"
   ]
  },
  {
   "cell_type": "code",
   "execution_count": 7,
   "metadata": {},
   "outputs": [],
   "source": [
    "#Get a list of courses from GBQ:\n",
    "\n",
    "#Send out course tabs dataframe to GBQ\n",
    "query_ = '''SELECT `course_id`, `course_sis_id`, `Dept`,`enrollment_term`,\n",
    "       `parent_account`, `Course_name`, `course_state` FROM `lt_courses.{}`\n",
    "'''.format(out_table)\n",
    "all_courses_df = pd.read_gbq(query_, project_id, credentials=credentials)"
   ]
  },
  {
   "cell_type": "code",
   "execution_count": 8,
   "metadata": {},
   "outputs": [],
   "source": [
    "def get_course_settings_new_analytics_info(course_id):\n",
    "    feature_flags = None\n",
    "    all_settings = None\n",
    "    try:\n",
    "        c1 = canvas.get_course(course_id)\n",
    "    except:\n",
    "        c1 = None\n",
    "    try:    \n",
    "        #Get feature flags for new analytics for course\n",
    "        all_features = c1.get_features()\n",
    "        for feature_ in all_features:\n",
    "            if feature_.feature == \"analytics_2\":\n",
    "                feature_flags = feature_.feature_flag\n",
    "                feature_flags['course_id'] = course_id\n",
    "                \n",
    "    except Exception as e:\n",
    "        pass                \n",
    "\n",
    "    try:    \n",
    "        #Get all settings for this course\n",
    "        all_settings = c1.get_settings()\n",
    "        all_settings['course_id'] = course_id\n",
    "\n",
    "    except Exception as e:\n",
    "        pass\n",
    "    \n",
    "    return (feature_flags, all_settings)\n"
   ]
  },
  {
   "cell_type": "code",
   "execution_count": 9,
   "metadata": {},
   "outputs": [],
   "source": [
    "#get the course tab info for a set number of courses at a time\n",
    "\n",
    "all_course_list_0 = all_courses_df.course_id.tolist()\n",
    "\n",
    "if run_mode == 'dev' or run_mode=='mig':\n",
    "    course_pos_list = all_course_list_0[:5]\n",
    "elif run_mode == 'prod' or run_mode=='prod_home':\n",
    "    course_pos_list = all_course_list_0\n",
    "    \n",
    "#all_course_list_0 = [3156, 13894]\n",
    "all_feature_flags_list = []\n",
    "all_settings_list = []\n",
    "for cid in course_pos_list:\n",
    "    #print(cid)\n",
    "    feature_flags, settings = get_course_settings_new_analytics_info(cid)\n",
    "    if feature_flags != None:\n",
    "        all_feature_flags_list.append(feature_flags)\n",
    "    if settings != None:\n",
    "        all_settings_list.append(settings)\n",
    "    \n",
    "new_analytics_df = pd.DataFrame(all_feature_flags_list)\n",
    "course_settings_df = pd.DataFrame(all_settings_list)"
   ]
  },
  {
   "cell_type": "code",
   "execution_count": 10,
   "metadata": {},
   "outputs": [
    {
     "name": "stderr",
     "output_type": "stream",
     "text": [
      "1it [00:04,  4.12s/it]\n",
      "1it [00:07,  7.64s/it]\n"
     ]
    }
   ],
   "source": [
    "course_settings_df = course_settings_df.merge(all_courses_df, on='course_id', how='left')\n",
    "new_analytics_df = new_analytics_df.merge(all_courses_df, on='course_id', how='left')\n",
    "\n",
    "#save local copies:\n",
    "course_settings_df.to_csv('{}.csv'.format(setting_out_table), index=None)\n",
    "new_analytics_df.to_csv('{}.csv'.format(feature_flags_out_table), index=None)\n",
    "\n",
    "#Export to GBQ:\n",
    "course_settings_df.to_gbq('lt_courses.{}'.format(setting_out_table), project_id, if_exists='replace', \n",
    "                          credentials=credentials)\n",
    "new_analytics_df.to_gbq('lt_courses.{}'.format(feature_flags_out_table), project_id, if_exists='replace', \n",
    "                          credentials=credentials)"
   ]
  }
 ],
 "metadata": {
  "kernelspec": {
   "display_name": "Python 3",
   "language": "python",
   "name": "python3"
  },
  "language_info": {
   "codemirror_mode": {
    "name": "ipython",
    "version": 3
   },
   "file_extension": ".py",
   "mimetype": "text/x-python",
   "name": "python",
   "nbconvert_exporter": "python",
   "pygments_lexer": "ipython3",
   "version": "3.9.2"
  }
 },
 "nbformat": 4,
 "nbformat_minor": 4
}
